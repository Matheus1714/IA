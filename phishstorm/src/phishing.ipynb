{
 "cells": [
  {
   "cell_type": "markdown",
   "metadata": {},
   "source": [
    "# Tratamento de dados"
   ]
  },
  {
   "cell_type": "markdown",
   "metadata": {},
   "source": [
    "Importação das bibliotecas utilizadas"
   ]
  },
  {
   "cell_type": "code",
   "execution_count": 16,
   "metadata": {
    "scrolled": false
   },
   "outputs": [],
   "source": [
    "import pandas as pd\n",
    "import os\n",
    "import csv\n",
    "import re"
   ]
  },
  {
   "cell_type": "markdown",
   "metadata": {},
   "source": [
    "Verificação de diretório"
   ]
  },
  {
   "cell_type": "code",
   "execution_count": 17,
   "metadata": {},
   "outputs": [
    {
     "name": "stdout",
     "output_type": "stream",
     "text": [
      "/home/matheus1714/Documents/Cyber-Security/phishstorm/src\n"
     ]
    }
   ],
   "source": [
    "print(os.getcwd())"
   ]
  },
  {
   "cell_type": "markdown",
   "metadata": {},
   "source": [
    "Verificação da existência do `urlset.csv`"
   ]
  },
  {
   "cell_type": "code",
   "execution_count": 18,
   "metadata": {},
   "outputs": [
    {
     "name": "stdout",
     "output_type": "stream",
     "text": [
      "['urlset.csv', 'verified_online.csv', '.ipynb_checkpoints', 'phishing.ipynb']\n"
     ]
    }
   ],
   "source": [
    "files = os.listdir(os.getcwd())\n",
    "print(files)"
   ]
  },
  {
   "cell_type": "code",
   "execution_count": 19,
   "metadata": {
    "scrolled": true
   },
   "outputs": [
    {
     "name": "stdout",
     "output_type": "stream",
     "text": [
      "dataset verified_online.csv is in directory /home/matheus1714/Documents/Cyber-Security/phishstorm/src/verified_online.csv\n"
     ]
    }
   ],
   "source": [
    "dataset_name = 'verified_online.csv'\n",
    "found = False\n",
    "for file in files:\n",
    "    if file == dataset_name:\n",
    "        path = os.getcwd()+ \"/\" + dataset_name\n",
    "        print('dataset ' + dataset_name + ' is in directory ' + path)\n",
    "        found = True\n",
    "if(not found): print('dataset not founder')\n",
    "        "
   ]
  },
  {
   "cell_type": "markdown",
   "metadata": {},
   "source": [
    "Leitura do arquivo csv usando `pandas`"
   ]
  },
  {
   "cell_type": "code",
   "execution_count": 20,
   "metadata": {},
   "outputs": [],
   "source": [
    "dataset = pd.read_csv(path, sep=','\n",
    "                      ,delimiter=None\n",
    "                      , header='infer'\n",
    "                      , names=None\n",
    "                      ,index_col=None\n",
    "                      , usecols=None\n",
    "                      , squeeze=False\n",
    "                      , error_bad_lines=False)"
   ]
  },
  {
   "cell_type": "markdown",
   "metadata": {},
   "source": [
    "Colunas presentes no `dataset`"
   ]
  },
  {
   "cell_type": "code",
   "execution_count": 21,
   "metadata": {
    "scrolled": true
   },
   "outputs": [
    {
     "name": "stdout",
     "output_type": "stream",
     "text": [
      "phish_id\n",
      "url\n",
      "phish_detail_url\n",
      "submission_time\n",
      "verified\n",
      "verification_time\n",
      "online\n",
      "target\n"
     ]
    }
   ],
   "source": [
    "for name_row in dataset:\n",
    "    print(name_row)"
   ]
  },
  {
   "cell_type": "code",
   "execution_count": 22,
   "metadata": {},
   "outputs": [
    {
     "data": {
      "text/html": [
       "<div>\n",
       "<style scoped>\n",
       "    .dataframe tbody tr th:only-of-type {\n",
       "        vertical-align: middle;\n",
       "    }\n",
       "\n",
       "    .dataframe tbody tr th {\n",
       "        vertical-align: top;\n",
       "    }\n",
       "\n",
       "    .dataframe thead th {\n",
       "        text-align: right;\n",
       "    }\n",
       "</style>\n",
       "<table border=\"1\" class=\"dataframe\">\n",
       "  <thead>\n",
       "    <tr style=\"text-align: right;\">\n",
       "      <th></th>\n",
       "      <th>phish_id</th>\n",
       "      <th>url</th>\n",
       "      <th>phish_detail_url</th>\n",
       "      <th>submission_time</th>\n",
       "      <th>verified</th>\n",
       "      <th>verification_time</th>\n",
       "      <th>online</th>\n",
       "      <th>target</th>\n",
       "    </tr>\n",
       "  </thead>\n",
       "  <tbody>\n",
       "    <tr>\n",
       "      <th>0</th>\n",
       "      <td>6259545</td>\n",
       "      <td>https://mpm.payback.de/redi?lid=59276527279302...</td>\n",
       "      <td>http://www.phishtank.com/phish_detail.php?phis...</td>\n",
       "      <td>2019-11-01T12:29:23+00:00</td>\n",
       "      <td>yes</td>\n",
       "      <td>2019-11-01T12:33:49+00:00</td>\n",
       "      <td>yes</td>\n",
       "      <td>Other</td>\n",
       "    </tr>\n",
       "    <tr>\n",
       "      <th>1</th>\n",
       "      <td>6259400</td>\n",
       "      <td>http://kuchkhasbate.info/wp-includes/SimplePie...</td>\n",
       "      <td>http://www.phishtank.com/phish_detail.php?phis...</td>\n",
       "      <td>2019-11-01T03:02:12+00:00</td>\n",
       "      <td>yes</td>\n",
       "      <td>2019-11-01T09:56:18+00:00</td>\n",
       "      <td>yes</td>\n",
       "      <td>Other</td>\n",
       "    </tr>\n",
       "    <tr>\n",
       "      <th>2</th>\n",
       "      <td>6259370</td>\n",
       "      <td>http://52.170.238.217/prime/mobile/</td>\n",
       "      <td>http://www.phishtank.com/phish_detail.php?phis...</td>\n",
       "      <td>2019-11-01T00:26:31+00:00</td>\n",
       "      <td>yes</td>\n",
       "      <td>2019-11-01T00:27:23+00:00</td>\n",
       "      <td>yes</td>\n",
       "      <td>Bradesco</td>\n",
       "    </tr>\n",
       "    <tr>\n",
       "      <th>3</th>\n",
       "      <td>6259369</td>\n",
       "      <td>http://t4lh4s4lt.site/bootstrap-3.3.7/css/memb...</td>\n",
       "      <td>http://www.phishtank.com/phish_detail.php?phis...</td>\n",
       "      <td>2019-11-01T00:22:37+00:00</td>\n",
       "      <td>yes</td>\n",
       "      <td>2019-11-01T00:24:01+00:00</td>\n",
       "      <td>yes</td>\n",
       "      <td>ABSA Bank</td>\n",
       "    </tr>\n",
       "    <tr>\n",
       "      <th>4</th>\n",
       "      <td>6259368</td>\n",
       "      <td>http://tiny.cc/m65gfz</td>\n",
       "      <td>http://www.phishtank.com/phish_detail.php?phis...</td>\n",
       "      <td>2019-11-01T00:22:36+00:00</td>\n",
       "      <td>yes</td>\n",
       "      <td>2019-11-01T00:24:01+00:00</td>\n",
       "      <td>yes</td>\n",
       "      <td>ABSA Bank</td>\n",
       "    </tr>\n",
       "  </tbody>\n",
       "</table>\n",
       "</div>"
      ],
      "text/plain": [
       "   phish_id                                                url  \\\n",
       "0   6259545  https://mpm.payback.de/redi?lid=59276527279302...   \n",
       "1   6259400  http://kuchkhasbate.info/wp-includes/SimplePie...   \n",
       "2   6259370                http://52.170.238.217/prime/mobile/   \n",
       "3   6259369  http://t4lh4s4lt.site/bootstrap-3.3.7/css/memb...   \n",
       "4   6259368                              http://tiny.cc/m65gfz   \n",
       "\n",
       "                                    phish_detail_url  \\\n",
       "0  http://www.phishtank.com/phish_detail.php?phis...   \n",
       "1  http://www.phishtank.com/phish_detail.php?phis...   \n",
       "2  http://www.phishtank.com/phish_detail.php?phis...   \n",
       "3  http://www.phishtank.com/phish_detail.php?phis...   \n",
       "4  http://www.phishtank.com/phish_detail.php?phis...   \n",
       "\n",
       "             submission_time verified          verification_time online  \\\n",
       "0  2019-11-01T12:29:23+00:00      yes  2019-11-01T12:33:49+00:00    yes   \n",
       "1  2019-11-01T03:02:12+00:00      yes  2019-11-01T09:56:18+00:00    yes   \n",
       "2  2019-11-01T00:26:31+00:00      yes  2019-11-01T00:27:23+00:00    yes   \n",
       "3  2019-11-01T00:22:37+00:00      yes  2019-11-01T00:24:01+00:00    yes   \n",
       "4  2019-11-01T00:22:36+00:00      yes  2019-11-01T00:24:01+00:00    yes   \n",
       "\n",
       "      target  \n",
       "0      Other  \n",
       "1      Other  \n",
       "2   Bradesco  \n",
       "3  ABSA Bank  \n",
       "4  ABSA Bank  "
      ]
     },
     "execution_count": 22,
     "metadata": {},
     "output_type": "execute_result"
    }
   ],
   "source": [
    "dataset.head()"
   ]
  },
  {
   "cell_type": "markdown",
   "metadata": {},
   "source": [
    "Padronização das urls"
   ]
  },
  {
   "cell_type": "markdown",
   "metadata": {},
   "source": [
    "Validação de urls"
   ]
  },
  {
   "cell_type": "code",
   "execution_count": 23,
   "metadata": {},
   "outputs": [],
   "source": [
    "def valid(url):\n",
    "    return re.match(r\"(?:[a-z0-9](?:[a-z0-9-]{0,61}[a-z0-9])?\\.)+[a-z0-9][a-z0-9-]{0,61}[a-z0-9]\", url) and url"
   ]
  },
  {
   "cell_type": "code",
   "execution_count": 24,
   "metadata": {
    "scrolled": false
   },
   "outputs": [],
   "source": [
    "invalid_domains = [[],[]]\n",
    "pos = 0\n",
    "for domain in dataset['url']:\n",
    "    if not valid(domain):\n",
    "        invalid_domains[0].append(domain)\n",
    "        invalid_domains[1].append(pos)\n",
    "    pos = pos + 1"
   ]
  },
  {
   "cell_type": "markdown",
   "metadata": {},
   "source": [
    "URLs inválidas"
   ]
  },
  {
   "cell_type": "code",
   "execution_count": 25,
   "metadata": {
    "scrolled": false
   },
   "outputs": [
    {
     "name": "stdout",
     "output_type": "stream",
     "text": [
      "                                                      0\n",
      "0     https://mpm.payback.de/redi?lid=59276527279302...\n",
      "1     http://kuchkhasbate.info/wp-includes/SimplePie...\n",
      "2                   http://52.170.238.217/prime/mobile/\n",
      "3     http://t4lh4s4lt.site/bootstrap-3.3.7/css/memb...\n",
      "4                                 http://tiny.cc/m65gfz\n",
      "5                                     http://smbclm.com\n",
      "6     http://inforef.16mb.com/facebook-confirm/index...\n",
      "7             http://inforef.16mb.com/facebook-confirm/\n",
      "8     https://solicitarmultiplus.com/Bradesco/deskto...\n",
      "9     https://www.appauthy-safebr.com/authyapphref09...\n",
      "10    http://34.239.148.242/bradesc0app8934908893893...\n",
      "11    https://www.appauthy-safebr.com/authyapphref09...\n",
      "12    http://refsec.16mb.com/facebook-confirm/index....\n",
      "13             http://refsec.16mb.com/facebook-confirm/\n",
      "14    http://secs.16mb.com/facebook-confirm/index.ht...\n",
      "15               http://secs.16mb.com/facebook-confirm/\n",
      "16    http://section-pf.16mb.com/facebook-confirm/in...\n",
      "17         http://section-pf.16mb.com/facebook-confirm/\n",
      "18    https://arcreprov.000webhostapp.com/mobile-fac...\n",
      "19               https://www.niss-bk-mufg-inkin-jp.com/\n",
      "20    https://secure75.securewebsession.com/acessoau...\n",
      "21          https://31102019client-com.umbler.net/caixa\n",
      "22    http://a0350244.xsph.ru/c34e0e02eb881e6728224f...\n",
      "23    http://a0350244.xsph.ru/c34e0e02eb881e6728224f...\n",
      "24    https://www.appauthy-safebr.com/authyapphref09...\n",
      "25                               http://3tesla.info/e/?\n",
      "26                     http://dsgnpool.com/bioved/page1\n",
      "27              https://dofus-evenement-draconiros.com/\n",
      "28         https://31102019client-com.umbler.net/caixa/\n",
      "29                        https://my3-billing-login.com\n",
      "...                                                 ...\n",
      "9771        http://0s.or3ws5dumvzc4y3pnu.drgo.ru/signup\n",
      "9772       http://0s.or3ws5dumvzc4y3pnu.mbway.ru/signup\n",
      "9773      http://0s.or3ws5dumvzc4y3pnu.xwerty.ru/signup\n",
      "9774    http://mrs-scientific.com/catalogue/compte.html\n",
      "9775  http://drive.google.com.arablatrade.com/google...\n",
      "9776        http://ns.act-secure.com/icons/redirect.htm\n",
      "9777                 http://www.cielofidelidade.135.it/\n",
      "9778  http://www.veronikastringquartet.com/htmls/pay...\n",
      "9779  http://www.samariter-berg.ch/Form/forms/form1....\n",
      "9780  http://www.formbuddy.com/cgi-bin/formdisp.pl?u...\n",
      "9781      https://sites.google.com/site/libretyreserve/\n",
      "9782  http://www.motomach3.cz/admin/Activation/cmd%3...\n",
      "9783      http://sites.google.com/site/habbotuttogratis\n",
      "9784  http://www.shakeupministries.org/catalog/item/...\n",
      "9785           http://cysmith.net/aolbilling/update.php\n",
      "9786                              http://2933517.com/js\n",
      "9787          http://handle.booktobi.com/css/index.html\n",
      "9788  http://dinas.tomsk.ru/err/?paypal.ch/ch/cgi-bi...\n",
      "9789  http://princestudio.net/tienda/libraries/jooml...\n",
      "9790  http://ads.nowfeelme.com/~catherin/paypal.acco...\n",
      "9791  http://www.ikbooks.com/images/infobox/thumbs/S...\n",
      "9792                           http://www.tunga9.cl/cp/\n",
      "9793  http://sogiitx.org/paypal/au/account/secure/up...\n",
      "9794   http://aufildessaisons.com/gi/myalbum/sample/oi/\n",
      "9795  http://aufildessaisons.com/gi/myalbum/sample/o...\n",
      "9796  http://creditiperhabbogratissicuro100.blogspot...\n",
      "9797  http://mundovirtualhabbo.blogspot.com/2009_01_...\n",
      "9798  http://aijcs.blogspot.com/2005/03/colourful-li...\n",
      "9799                       http://tnet.at.ua/index/0-13\n",
      "9800  http://tudu-free.blogspot.com/2008/02/jogos-ja...\n",
      "\n",
      "[9801 rows x 1 columns]\n"
     ]
    }
   ],
   "source": [
    "inval = pd.DataFrame(data=invalid_domains[0])\n",
    "print(inval)"
   ]
  },
  {
   "cell_type": "markdown",
   "metadata": {},
   "source": [
    "Eliminar linhas inválidas do dataset"
   ]
  },
  {
   "cell_type": "code",
   "execution_count": 26,
   "metadata": {},
   "outputs": [],
   "source": [
    "dataset.drop(invalid_domains[1], axis=0, inplace=True)"
   ]
  },
  {
   "cell_type": "markdown",
   "metadata": {},
   "source": [
    "# Extração de Palavras da URL"
   ]
  },
  {
   "cell_type": "markdown",
   "metadata": {},
   "source": [
    "URLs analisadas que não são phishing"
   ]
  },
  {
   "cell_type": "code",
   "execution_count": 27,
   "metadata": {},
   "outputs": [],
   "source": [
    "url_not_phishing = ['https://www.paypal.com/br/home'\n",
    "                    , 'https://en.wikipedia.org/wiki/Main_Page'\n",
    "                    , 'https://www.gamespot.com/'\n",
    "                    , 'https://company.wizards.com/'\n",
    "                    , 'https://br.yahoo.com/?p=us']"
   ]
  },
  {
   "cell_type": "code",
   "execution_count": null,
   "metadata": {},
   "outputs": [],
   "source": []
  },
  {
   "cell_type": "code",
   "execution_count": null,
   "metadata": {},
   "outputs": [],
   "source": []
  }
 ],
 "metadata": {
  "kernelspec": {
   "display_name": "Python 3",
   "language": "python",
   "name": "python3"
  },
  "language_info": {
   "codemirror_mode": {
    "name": "ipython",
    "version": 2
   },
   "file_extension": ".py",
   "mimetype": "text/x-python",
   "name": "python",
   "nbconvert_exporter": "python",
   "pygments_lexer": "ipython2",
   "version": "2.7.16"
  }
 },
 "nbformat": 4,
 "nbformat_minor": 2
}
