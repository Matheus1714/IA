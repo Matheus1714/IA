{
 "cells": [
  {
   "cell_type": "markdown",
   "metadata": {},
   "source": [
    "# Tratamento de dados"
   ]
  },
  {
   "cell_type": "markdown",
   "metadata": {},
   "source": [
    "Importação das bibliotecas utilizadas"
   ]
  },
  {
   "cell_type": "code",
   "execution_count": 69,
   "metadata": {
    "scrolled": false
   },
   "outputs": [],
   "source": [
    "import pandas as pd\n",
    "import os\n",
    "import csv\n",
    "import re"
   ]
  },
  {
   "cell_type": "markdown",
   "metadata": {},
   "source": [
    "Verificação de diretório"
   ]
  },
  {
   "cell_type": "code",
   "execution_count": 70,
   "metadata": {},
   "outputs": [
    {
     "name": "stdout",
     "output_type": "stream",
     "text": [
      "/home/matheus1714/Documents/Cyber-Security/phishstorm/src\n"
     ]
    }
   ],
   "source": [
    "print(os.getcwd())"
   ]
  },
  {
   "cell_type": "markdown",
   "metadata": {},
   "source": [
    "Verificação da existência do `urlset.csv`"
   ]
  },
  {
   "cell_type": "code",
   "execution_count": 71,
   "metadata": {},
   "outputs": [
    {
     "name": "stdout",
     "output_type": "stream",
     "text": [
      "['urlset.csv', '.~lock.urlset.csv#', '.ipynb_checkpoints', 'phishing.ipynb']\n"
     ]
    }
   ],
   "source": [
    "files = os.listdir(os.getcwd())\n",
    "print(files)"
   ]
  },
  {
   "cell_type": "code",
   "execution_count": 72,
   "metadata": {
    "scrolled": true
   },
   "outputs": [
    {
     "name": "stdout",
     "output_type": "stream",
     "text": [
      "dataset urlset.csv is in directory /home/matheus1714/Documents/Cyber-Security/phishstorm/src/urlset.csv\n"
     ]
    }
   ],
   "source": [
    "dataset_name = 'urlset.csv'\n",
    "found = False\n",
    "for file in files:\n",
    "    if file == dataset_name:\n",
    "        path = os.getcwd()+ \"/\" + dataset_name\n",
    "        print('dataset ' + dataset_name + ' is in directory ' + path)\n",
    "        found = True\n",
    "if(not found): print('dataset not founder')\n",
    "        "
   ]
  },
  {
   "cell_type": "markdown",
   "metadata": {},
   "source": [
    "Leitura do arquivo csv usando `pandas`"
   ]
  },
  {
   "cell_type": "code",
   "execution_count": 73,
   "metadata": {},
   "outputs": [
    {
     "name": "stderr",
     "output_type": "stream",
     "text": [
      "Skipping line 18259: expected 14 fields, saw 15\n",
      "Skipping line 18273: expected 14 fields, saw 15\n",
      "\n"
     ]
    }
   ],
   "source": [
    "dataset = pd.read_csv(path, sep=','\n",
    "                      ,delimiter=None\n",
    "                      , header='infer'\n",
    "                      , names=None\n",
    "                      ,index_col=None\n",
    "                      , usecols=None\n",
    "                      , squeeze=False\n",
    "                      , error_bad_lines=False)"
   ]
  },
  {
   "cell_type": "markdown",
   "metadata": {},
   "source": [
    "Colunas presentes no `dataset`"
   ]
  },
  {
   "cell_type": "code",
   "execution_count": 74,
   "metadata": {
    "scrolled": true
   },
   "outputs": [
    {
     "name": "stdout",
     "output_type": "stream",
     "text": [
      "domain\n",
      "ranking\n",
      "mld_res\n",
      "mld.ps_res\n",
      "card_rem\n",
      "ratio_Rrem\n",
      "ratio_Arem\n",
      "jaccard_RR\n",
      "jaccard_RA\n",
      "jaccard_AR\n",
      "jaccard_AA\n",
      "jaccard_ARrd\n",
      "jaccard_ARrem\n",
      "label\n"
     ]
    }
   ],
   "source": [
    "for name_row in dataset:\n",
    "    print(name_row)"
   ]
  },
  {
   "cell_type": "code",
   "execution_count": 75,
   "metadata": {},
   "outputs": [
    {
     "data": {
      "text/html": [
       "<div>\n",
       "<style scoped>\n",
       "    .dataframe tbody tr th:only-of-type {\n",
       "        vertical-align: middle;\n",
       "    }\n",
       "\n",
       "    .dataframe tbody tr th {\n",
       "        vertical-align: top;\n",
       "    }\n",
       "\n",
       "    .dataframe thead th {\n",
       "        text-align: right;\n",
       "    }\n",
       "</style>\n",
       "<table border=\"1\" class=\"dataframe\">\n",
       "  <thead>\n",
       "    <tr style=\"text-align: right;\">\n",
       "      <th></th>\n",
       "      <th>domain</th>\n",
       "      <th>ranking</th>\n",
       "      <th>mld_res</th>\n",
       "      <th>mld.ps_res</th>\n",
       "      <th>card_rem</th>\n",
       "      <th>ratio_Rrem</th>\n",
       "      <th>ratio_Arem</th>\n",
       "      <th>jaccard_RR</th>\n",
       "      <th>jaccard_RA</th>\n",
       "      <th>jaccard_AR</th>\n",
       "      <th>jaccard_AA</th>\n",
       "      <th>jaccard_ARrd</th>\n",
       "      <th>jaccard_ARrem</th>\n",
       "      <th>label</th>\n",
       "    </tr>\n",
       "  </thead>\n",
       "  <tbody>\n",
       "    <tr>\n",
       "      <th>0</th>\n",
       "      <td>nobell.it/70ffb52d079109dca5664cce6f317373782/...</td>\n",
       "      <td>10000000</td>\n",
       "      <td>1.0</td>\n",
       "      <td>0.0</td>\n",
       "      <td>18.0</td>\n",
       "      <td>107.611111</td>\n",
       "      <td>107.277778</td>\n",
       "      <td>0.0</td>\n",
       "      <td>0.0</td>\n",
       "      <td>0.0</td>\n",
       "      <td>0.0</td>\n",
       "      <td>0.8</td>\n",
       "      <td>0.795729</td>\n",
       "      <td>1.0</td>\n",
       "    </tr>\n",
       "    <tr>\n",
       "      <th>1</th>\n",
       "      <td>www.dghjdgf.com/paypal.co.uk/cycgi-bin/webscrc...</td>\n",
       "      <td>10000000</td>\n",
       "      <td>0.0</td>\n",
       "      <td>0.0</td>\n",
       "      <td>11.0</td>\n",
       "      <td>150.636364</td>\n",
       "      <td>152.272727</td>\n",
       "      <td>0.0</td>\n",
       "      <td>0.0</td>\n",
       "      <td>0.0</td>\n",
       "      <td>0.0</td>\n",
       "      <td>0</td>\n",
       "      <td>0.768577</td>\n",
       "      <td>1.0</td>\n",
       "    </tr>\n",
       "    <tr>\n",
       "      <th>2</th>\n",
       "      <td>serviciosbys.com/paypal.cgi.bin.get-into.herf....</td>\n",
       "      <td>10000000</td>\n",
       "      <td>0.0</td>\n",
       "      <td>0.0</td>\n",
       "      <td>14.0</td>\n",
       "      <td>73.500000</td>\n",
       "      <td>72.642857</td>\n",
       "      <td>0.0</td>\n",
       "      <td>0.0</td>\n",
       "      <td>0.0</td>\n",
       "      <td>0.0</td>\n",
       "      <td>0</td>\n",
       "      <td>0.726582</td>\n",
       "      <td>1.0</td>\n",
       "    </tr>\n",
       "    <tr>\n",
       "      <th>3</th>\n",
       "      <td>mail.printakid.com/www.online.americanexpress....</td>\n",
       "      <td>10000000</td>\n",
       "      <td>0.0</td>\n",
       "      <td>0.0</td>\n",
       "      <td>6.0</td>\n",
       "      <td>562.000000</td>\n",
       "      <td>590.666667</td>\n",
       "      <td>0.0</td>\n",
       "      <td>0.0</td>\n",
       "      <td>0.0</td>\n",
       "      <td>0.0</td>\n",
       "      <td>0</td>\n",
       "      <td>0.85964</td>\n",
       "      <td>1.0</td>\n",
       "    </tr>\n",
       "    <tr>\n",
       "      <th>4</th>\n",
       "      <td>thewhiskeydregs.com/wp-content/themes/widescre...</td>\n",
       "      <td>10000000</td>\n",
       "      <td>0.0</td>\n",
       "      <td>0.0</td>\n",
       "      <td>8.0</td>\n",
       "      <td>29.000000</td>\n",
       "      <td>24.125000</td>\n",
       "      <td>0.0</td>\n",
       "      <td>0.0</td>\n",
       "      <td>0.0</td>\n",
       "      <td>0.0</td>\n",
       "      <td>0</td>\n",
       "      <td>0.748971</td>\n",
       "      <td>1.0</td>\n",
       "    </tr>\n",
       "  </tbody>\n",
       "</table>\n",
       "</div>"
      ],
      "text/plain": [
       "                                              domain   ranking mld_res  \\\n",
       "0  nobell.it/70ffb52d079109dca5664cce6f317373782/...  10000000     1.0   \n",
       "1  www.dghjdgf.com/paypal.co.uk/cycgi-bin/webscrc...  10000000     0.0   \n",
       "2  serviciosbys.com/paypal.cgi.bin.get-into.herf....  10000000     0.0   \n",
       "3  mail.printakid.com/www.online.americanexpress....  10000000     0.0   \n",
       "4  thewhiskeydregs.com/wp-content/themes/widescre...  10000000     0.0   \n",
       "\n",
       "  mld.ps_res  card_rem  ratio_Rrem  ratio_Arem  jaccard_RR  jaccard_RA  \\\n",
       "0        0.0      18.0  107.611111  107.277778         0.0         0.0   \n",
       "1        0.0      11.0  150.636364  152.272727         0.0         0.0   \n",
       "2        0.0      14.0   73.500000   72.642857         0.0         0.0   \n",
       "3        0.0       6.0  562.000000  590.666667         0.0         0.0   \n",
       "4        0.0       8.0   29.000000   24.125000         0.0         0.0   \n",
       "\n",
       "   jaccard_AR  jaccard_AA jaccard_ARrd jaccard_ARrem  label  \n",
       "0         0.0         0.0          0.8      0.795729    1.0  \n",
       "1         0.0         0.0            0      0.768577    1.0  \n",
       "2         0.0         0.0            0      0.726582    1.0  \n",
       "3         0.0         0.0            0       0.85964    1.0  \n",
       "4         0.0         0.0            0      0.748971    1.0  "
      ]
     },
     "execution_count": 75,
     "metadata": {},
     "output_type": "execute_result"
    }
   ],
   "source": [
    "dataset.head()"
   ]
  },
  {
   "cell_type": "markdown",
   "metadata": {},
   "source": [
    "Padronização das urls"
   ]
  },
  {
   "cell_type": "markdown",
   "metadata": {},
   "source": [
    "Validação de urls"
   ]
  },
  {
   "cell_type": "code",
   "execution_count": 76,
   "metadata": {},
   "outputs": [],
   "source": [
    "def valid(url):\n",
    "    return re.match(r\"(?:[a-z0-9](?:[a-z0-9-]{0,61}[a-z0-9])?\\.)+[a-z0-9][a-z0-9-]{0,61}[a-z0-9]\", url) and url"
   ]
  },
  {
   "cell_type": "code",
   "execution_count": 77,
   "metadata": {
    "scrolled": true
   },
   "outputs": [],
   "source": [
    "invalid_domains = [[],[]]\n",
    "pos = 0\n",
    "for domain in dataset['domain']:\n",
    "    if not valid(domain):\n",
    "        invalid_domains[0].append(domain)\n",
    "        invalid_domains[1].append(pos)\n",
    "    pos = pos + 1"
   ]
  },
  {
   "cell_type": "markdown",
   "metadata": {},
   "source": [
    "URLs inválidas"
   ]
  },
  {
   "cell_type": "code",
   "execution_count": 78,
   "metadata": {
    "scrolled": false
   },
   "outputs": [
    {
     "name": "stdout",
     "output_type": "stream",
     "text": [
      "                                                      0\n",
      "0     'motors.shop.ebay.com-cars-trucks-724527.jnq3....\n",
      "1     'www.gestion-des-impayes.com/visuel.php?param=...\n",
      "2     'nicolecustodio.com.br/paypal\\%20us/webscr.htm...\n",
      "3     'beforenanny911.com/auto/my-themes/file/proper...\n",
      "4     'www.edyshsdf32.hut4.ru/Redirecionamento.html?...\n",
      "5     'www.google.ad/url?sa=f&rct=j&url=https:/www.p...\n",
      "6     'justoneofthosethings.co.uk/bahi\\%20paypal/sec...\n",
      "7     'justoneofthosethings.co.uk/bahi\\%20paypal/sec...\n",
      "8     'justoneofthosethings.co.uk/bahi\\%20paypal/sec...\n",
      "9          'justoneofthosethings.co.uk/bahi\\%20paypal/'\n",
      "10    'x.jmxded233.net/y.z?l=http\\%3a\\%2f\\%2fwww.aa....\n",
      "11    'justoneofthosethings.co.uk/bahi\\%20paypal/sec...\n",
      "12    'www.battled3.tk/login.asp?ref=https\\%3A\\%2F\\%...\n",
      "13    'cciampnr.com/car/Carsales\\%20Network\\%20Selle...\n",
      "14    'mkto-k0126.com/track?type=click&enid=bWFpbGlu...\n",
      "15    'mkto-k0126.com/track?type=click&enid=bWFpbGlu...\n",
      "16    'cntu.org.br/cntu/LightBox/images/www.nab.com....\n",
      "17    'homeimprovementmessage.com/bahi\\%20paypal/sec...\n",
      "18    'homeimprovementmessage.com/bahi\\%20paypal/sec...\n",
      "19    'homeimprovementmessage.com/bahi\\%20paypal/sec...\n",
      "20         'homeimprovementmessage.com/bahi\\%20paypal/'\n",
      "21    'homeimprovementmessage.com/bahi\\%20paypal/sec...\n",
      "22    'howtomoveoninfo.com/auto/nav/JEEEZ/JEEEZ/http...\n",
      "23     'buffetpalattare.com.br/paypal\\%20us/webscr.htm'\n",
      "24    772050312/www1.royalbank.com/cgi-bin/rbaccess/...\n",
      "25    'www.signin.ebay.co.uk.gbtrey.co.uk/index.php?...\n",
      "26    'www.capeannseptic.com/wp-content/themes/title...\n",
      "27    'www.signin.ebay.co.gbtrey.co.uk/index.php??wa...\n",
      "28       'bspnepal.org.np/mm/PayPal\\%20Extract/paypal/'\n",
      "29    'signin.ebay.co.uk.gbtrey.co.uk/index.php??wa=...\n",
      "...                                                 ...\n",
      "4061                   mr_stidds_world.tripod.com/Stidd\n",
      "4062                 uss_vigilant.tripod.com/index.html\n",
      "4063        'www.leisureideas.com/logic\\%20puzzles.htm'\n",
      "4064  'psylux.psych.tu-dresden.de/i1/kaw/diverses\\%2...\n",
      "4065       'www.wizards.com/rpga/lg/main.asp?welcome,2'\n",
      "4066         frisky_boy_19.tripod.com/dnd_tre/index.htm\n",
      "4067         kelly_nall.tripod.com/labyrinth/index.html\n",
      "4068       'en.wikipedia.org/wiki/Bunnies_\\%26_Burrows'\n",
      "4069      new_orleans_by_night.tripod.com/practice.html\n",
      "4070                  clan_giovanni.tripod.com/main.htm\n",
      "4071           ben_schlitt.tripod.com/houstonwraith.htm\n",
      "4072  'www.btrc.net/html/catalog/catmain.html#Macho ...\n",
      "4073  'www.hoboes.com/pub/Role-Playing/Future/Anarch...\n",
      "4074          'www.cynosurex.com/Cyno\\'s\\%20Role-Play/'\n",
      "4075        flintlock_laser.tripod.com/sleep/index.html\n",
      "4076  sliderz_rifts.tripod.com/palladiumriftsrpgunof...\n",
      "4077  'www.hoboes.com/pub/Role-Playing/Horror/Call\\%...\n",
      "4078   'www.ferazelhosting.net/\\%7Ebryce/rpgfunny.html'\n",
      "4079    darklight__1.tripod.com/assassinsinfraserburgh/\n",
      "4080  'www.hasbro.com/common/instruct/Mahjongg,natio...\n",
      "4081  'www.sff.net/people/TerryO\\'Brien/Characters/d...\n",
      "4082  'www.armchairempire.com/Reviews/PC\\%20Games/al...\n",
      "4083  'www.epinions.com/game_Titles_PC-Current-Ameri...\n",
      "4084            'www.avclub.com/articles/aquaria,7322/'\n",
      "4085  'www.mobygames.com/game_group/sheet/gameGroupI...\n",
      "4086  'www.fileplanet.com/100541/0/section/Marc-Ecko...\n",
      "4087  'en.wikipedia.org/wiki/Marc_Ecko\\'s_Getting_Up...\n",
      "4088  'www.armchairempire.com/Reviews/PC\\%20Games/al...\n",
      "4089  'www.mobygames.com/game_group/sheet/gameGroupI...\n",
      "4090  'www.armchairempire.com/Reviews/PC\\%20Games/un...\n",
      "\n",
      "[4091 rows x 1 columns]\n"
     ]
    }
   ],
   "source": [
    "inval = pd.DataFrame(data=invalid_domains[0])\n",
    "print(inval)"
   ]
  },
  {
   "cell_type": "markdown",
   "metadata": {},
   "source": [
    "Eliminar linhas inválidas do dataset"
   ]
  },
  {
   "cell_type": "code",
   "execution_count": 79,
   "metadata": {},
   "outputs": [],
   "source": [
    "dataset.drop(invalid_domains[1], axis=0, inplace=True)"
   ]
  },
  {
   "cell_type": "markdown",
   "metadata": {},
   "source": [
    "# Extração de Palavras da URL"
   ]
  },
  {
   "cell_type": "markdown",
   "metadata": {},
   "source": [
    "URLs analisadas que não são phishing"
   ]
  },
  {
   "cell_type": "code",
   "execution_count": 82,
   "metadata": {},
   "outputs": [],
   "source": [
    "url_not_phishing = ['https://www.paypal.com/br/home'\n",
    "                    , 'https://en.wikipedia.org/wiki/Main_Page'\n",
    "                    , 'https://www.gamespot.com/'\n",
    "                    , 'https://company.wizards.com/'\n",
    "                    , 'https://br.yahoo.com/?p=us']"
   ]
  },
  {
   "cell_type": "code",
   "execution_count": null,
   "metadata": {},
   "outputs": [],
   "source": []
  }
 ],
 "metadata": {
  "kernelspec": {
   "display_name": "Python 3",
   "language": "python",
   "name": "python3"
  },
  "language_info": {
   "codemirror_mode": {
    "name": "ipython",
    "version": 2
   },
   "file_extension": ".py",
   "mimetype": "text/x-python",
   "name": "python",
   "nbconvert_exporter": "python",
   "pygments_lexer": "ipython2",
   "version": "2.7.16"
  }
 },
 "nbformat": 4,
 "nbformat_minor": 2
}
